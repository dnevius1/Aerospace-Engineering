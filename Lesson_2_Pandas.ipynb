{
  "cells": [
    {
      "cell_type": "markdown",
      "metadata": {
        "id": "view-in-github",
        "colab_type": "text"
      },
      "source": [
        "<a href=\"https://colab.research.google.com/github/dnevius1/Aerospace-Engineering/blob/master/Lesson_2_Pandas.ipynb\" target=\"_parent\"><img src=\"https://colab.research.google.com/assets/colab-badge.svg\" alt=\"Open In Colab\"/></a>"
      ]
    },
    {
      "cell_type": "markdown",
      "id": "25d60804-02a6-4e94-a5a7-a49712b59057",
      "metadata": {
        "id": "25d60804-02a6-4e94-a5a7-a49712b59057"
      },
      "source": [
        "# Lesson 2: Pandas Library"
      ]
    },
    {
      "cell_type": "markdown",
      "id": "53c1be57-e550-4502-ac78-295953fc4f27",
      "metadata": {
        "id": "53c1be57-e550-4502-ac78-295953fc4f27"
      },
      "source": [
        "## Pandas Explained 🐼\n",
        "Pandas is a Python library used for data manipulation and analysis. It provides data structures and functions that simplify working with structured data, such as tables or spreadsheets."
      ]
    },
    {
      "cell_type": "code",
      "execution_count": null,
      "id": "4c48a730-b1e3-4ffe-950f-a3f454a39ee1",
      "metadata": {
        "id": "4c48a730-b1e3-4ffe-950f-a3f454a39ee1"
      },
      "outputs": [],
      "source": [
        "import pandas as pd"
      ]
    },
    {
      "cell_type": "markdown",
      "id": "6b6173c6-31bb-497e-9c1e-324ec3531db8",
      "metadata": {
        "id": "6b6173c6-31bb-497e-9c1e-324ec3531db8"
      },
      "source": [
        "## Pandas Series 📊\n",
        "Series is a one-dimensional labeled array capable of holding any data type (e.g., integers, floats, strings, etc.). It's similar to a column in a spreadsheet or a single list in Python."
      ]
    },
    {
      "cell_type": "code",
      "execution_count": null,
      "id": "fbf8821b-9ca1-48f8-a4ee-0be3574b23b4",
      "metadata": {
        "id": "fbf8821b-9ca1-48f8-a4ee-0be3574b23b4",
        "outputId": "1eca1227-6bab-40a3-8347-9c2ca91737fe"
      },
      "outputs": [
        {
          "name": "stdout",
          "output_type": "stream",
          "text": [
            "\n",
            "Series from NumPy array:\n",
            "0    10\n",
            "1    20\n",
            "2    30\n",
            "3    40\n",
            "4    50\n",
            "dtype: int64\n"
          ]
        }
      ],
      "source": [
        "import numpy as np\n",
        "data = np.array([10, 20, 30, 40, 50])\n",
        "series = pd.Series(data)\n",
        "print(\"\\nSeries from NumPy array:\")\n",
        "print(series)"
      ]
    },
    {
      "cell_type": "markdown",
      "id": "e76af3d7-bb9b-4054-9d46-e89dcf0ac0ee",
      "metadata": {
        "id": "e76af3d7-bb9b-4054-9d46-e89dcf0ac0ee"
      },
      "source": [
        "You can access pertinent attributes and methods as well for series:"
      ]
    },
    {
      "cell_type": "code",
      "execution_count": null,
      "id": "a516f4f7-b429-44c8-bfd0-eb912663fe79",
      "metadata": {
        "id": "a516f4f7-b429-44c8-bfd0-eb912663fe79",
        "outputId": "564320d8-fdba-4cc7-9988-0b47c97a6c5a"
      },
      "outputs": [
        {
          "name": "stdout",
          "output_type": "stream",
          "text": [
            "Index: RangeIndex(start=0, stop=5, step=1)\n",
            "Values: [10 20 30 40 50]\n",
            "Sum of values: 150\n",
            "Maximum value: 50\n",
            "Minimum value: 10\n"
          ]
        }
      ],
      "source": [
        "# Attributes\n",
        "print(\"Index:\", series.index)\n",
        "print(\"Values:\", series.values)\n",
        "\n",
        "# Methods\n",
        "print(\"Sum of values:\", series.sum())\n",
        "print(\"Maximum value:\", series.max())\n",
        "print(\"Minimum value:\", series.min())"
      ]
    },
    {
      "cell_type": "markdown",
      "id": "9e35bafe-de63-4dfd-9a22-49b8e483f020",
      "metadata": {
        "id": "9e35bafe-de63-4dfd-9a22-49b8e483f020"
      },
      "source": [
        "## Pandas Dataframes 🗄️\n",
        "A Pandas DataFrame is a two-dimensional labeled data structure with rows and columns, similar to a spreadsheet."
      ]
    },
    {
      "cell_type": "code",
      "execution_count": null,
      "id": "74d64817-68b6-40d4-ba84-3fc751e98db6",
      "metadata": {
        "id": "74d64817-68b6-40d4-ba84-3fc751e98db6",
        "outputId": "b97ca2c8-9e86-40e4-b381-78e052c4ed22"
      },
      "outputs": [
        {
          "name": "stdout",
          "output_type": "stream",
          "text": [
            "DataFrame created from dictionary:\n",
            "    Name  Age      City\n",
            "0   John   30  New York\n",
            "1   Emma   25    London\n",
            "2  Peter   35     Paris\n"
          ]
        }
      ],
      "source": [
        "# Creating a DataFrame from a dictionary\n",
        "data = {'Name': ['John', 'Emma', 'Peter'],\n",
        "        'Age': [30, 25, 35],\n",
        "        'City': ['New York', 'London', 'Paris']}\n",
        "df = pd.DataFrame(data)\n",
        "print(\"DataFrame created from dictionary:\")\n",
        "print(df)"
      ]
    },
    {
      "cell_type": "markdown",
      "id": "a324fdb4-6af2-4917-a94c-c8d6e95cbec8",
      "metadata": {
        "id": "a324fdb4-6af2-4917-a94c-c8d6e95cbec8"
      },
      "source": [
        "You can access rows, columns, or individual elements using indexing, slicing, or label-based methods."
      ]
    },
    {
      "cell_type": "code",
      "execution_count": null,
      "id": "0a46a650-d18e-489c-b4cd-0237d5722e5f",
      "metadata": {
        "id": "0a46a650-d18e-489c-b4cd-0237d5722e5f",
        "outputId": "fee9b3a5-96f6-4e0a-d402-de53817cebf9"
      },
      "outputs": [
        {
          "name": "stdout",
          "output_type": "stream",
          "text": [
            "\n",
            "Accessing columns:\n",
            "0     John\n",
            "1     Emma\n",
            "2    Peter\n",
            "Name: Name, dtype: object\n",
            "    Name  Age\n",
            "0   John   30\n",
            "1   Emma   25\n",
            "2  Peter   35\n",
            "\n",
            "Accessing rows:\n",
            "Name      Emma\n",
            "Age         25\n",
            "City    London\n",
            "Name: 1, dtype: object\n",
            "Name        John\n",
            "Age           30\n",
            "City    New York\n",
            "Name: 0, dtype: object\n",
            "\n",
            "Accessing elements:\n",
            "30\n",
            "London\n"
          ]
        }
      ],
      "source": [
        "# Accessing columns\n",
        "print(\"\\nAccessing columns:\")\n",
        "print(df['Name'])  # Accessing a single column\n",
        "print(df[['Name', 'Age']])  # Accessing multiple columns\n",
        "\n",
        "# Accessing rows\n",
        "print(\"\\nAccessing rows:\")\n",
        "print(df.loc[1])  # Accessing a single row by label\n",
        "print(df.iloc[0])  # Accessing a single row by index\n",
        "\n",
        "# Accessing elements\n",
        "print(\"\\nAccessing elements:\")\n",
        "print(df.at[0, 'Age'])  # Accessing a single element by label\n",
        "print(df.iat[1, 2])  # Accessing a single element by index"
      ]
    },
    {
      "cell_type": "markdown",
      "id": "71ec912c-cb52-4482-bd36-90de377a3b94",
      "metadata": {
        "id": "71ec912c-cb52-4482-bd36-90de377a3b94"
      },
      "source": [
        "You can perform various manipulations on DataFrames, such as adding or removing columns, filtering rows, and applying functions."
      ]
    },
    {
      "cell_type": "code",
      "execution_count": null,
      "id": "edb445df-175e-4494-b6bc-57d3d00c79ce",
      "metadata": {
        "id": "edb445df-175e-4494-b6bc-57d3d00c79ce",
        "outputId": "3924b59e-18de-48fd-c254-4e29d96a50d0"
      },
      "outputs": [
        {
          "name": "stdout",
          "output_type": "stream",
          "text": [
            "\n",
            "DataFrame after adding a new column:\n",
            "    Name  Age      City  Gender\n",
            "0   John   30  New York    Male\n",
            "1   Emma   25    London  Female\n",
            "2  Peter   35     Paris    Male\n",
            "\n",
            "Filtered DataFrame:\n",
            "    Name  Age      City Gender\n",
            "0   John   30  New York   Male\n",
            "2  Peter   35     Paris   Male\n",
            "\n",
            "DataFrame after applying function to 'Age' column:\n",
            "    Name  Age      City  Gender\n",
            "0   John   31  New York    Male\n",
            "1   Emma   26    London  Female\n",
            "2  Peter   36     Paris    Male\n"
          ]
        }
      ],
      "source": [
        "# Adding a new column\n",
        "df['Gender'] = ['Male', 'Female', 'Male']\n",
        "print(\"\\nDataFrame after adding a new column:\")\n",
        "print(df)\n",
        "\n",
        "# Filtering rows based on a condition\n",
        "filtered_df = df[df['Age'] > 25]\n",
        "print(\"\\nFiltered DataFrame:\")\n",
        "print(filtered_df)\n",
        "\n",
        "# Applying a function to a column\n",
        "df['Age'] = df['Age'].apply(lambda x: x + 1)\n",
        "print(\"\\nDataFrame after applying function to 'Age' column:\")\n",
        "print(df)"
      ]
    },
    {
      "cell_type": "markdown",
      "id": "e0fd4ed4-ee5d-40f0-8778-3426565b23ba",
      "metadata": {
        "id": "e0fd4ed4-ee5d-40f0-8778-3426565b23ba"
      },
      "source": [
        "### Exercise 1: Planetary Analysis with Pandas 🌏\n",
        "You are part of a team working on analyzing planetary Earth data. Your task is to process and analyze the data using Pandas to extract insights.\n",
        "\n",
        "#### Objectives:\n",
        "- Create a Pandas Series representing distances of planets from the Sun (in million kilometers)\n",
        "- Create a Pandas DataFrame representing characteristics of moons of the outer planets\n",
        "- Analyze the data to find key information about planetary distances and moon characteristics"
      ]
    },
    {
      "cell_type": "code",
      "execution_count": null,
      "id": "e430cf2d-277a-47ee-9b1b-6cf31205bec1",
      "metadata": {
        "id": "e430cf2d-277a-47ee-9b1b-6cf31205bec1"
      },
      "outputs": [],
      "source": [
        "planet_distances = {\n",
        "    'Mercury': 57.9,\n",
        "    'Venus': 108.2,\n",
        "    'Earth': 149.6,\n",
        "    'Mars': 227.9,\n",
        "    'Jupiter': 778.6,\n",
        "    'Saturn': 1433.5,\n",
        "    'Uranus': 2872.5,\n",
        "    'Neptune': 4495.1,\n",
        "    'Pluto': 5906.4\n",
        "}\n",
        "\n",
        "moon_data = {\n",
        "    'Planet': ['Jupiter', 'Jupiter', 'Saturn', 'Saturn', 'Uranus', 'Neptune'],\n",
        "    'Moon': ['Io', 'Ganymede', 'Titan', 'Rhea', 'Titania', 'Triton'],\n",
        "    'Diameter (km)': [3642, 5262, 5150, 1528, 1578, 2707],\n",
        "    'Orbital Period (days)': [1.77, 7.15, 15.95, 4.52, 8.71, 5.88]\n",
        "}"
      ]
    },
    {
      "cell_type": "code",
      "execution_count": null,
      "id": "e9b342f6-c0b8-4f1c-a49e-9c05dd510da5",
      "metadata": {
        "colab": {
          "base_uri": "https://localhost:8080/"
        },
        "id": "e9b342f6-c0b8-4f1c-a49e-9c05dd510da5",
        "outputId": "a2e3ccaa-f6dc-461a-a825-3f404119288b"
      },
      "outputs": [
        {
          "output_type": "stream",
          "name": "stdout",
          "text": [
            "    Planet      Moon  Diameter (km)  Orbital Period (days)\n",
            "0  Jupiter        Io           3642                   1.77\n",
            "1  Jupiter  Ganymede           5262                   7.15\n",
            "2   Saturn     Titan           5150                  15.95\n",
            "3   Saturn      Rhea           1528                   4.52\n",
            "4   Uranus   Titania           1578                   8.71\n",
            "5  Neptune    Triton           2707                   5.88\n"
          ]
        }
      ],
      "source": [
        "import pandas as pd\n",
        "\n",
        "planet_distances = pd.Series(planet_distances)\n",
        "moon_characteristics = pd.DataFrame(moon_data)\n",
        "print(moon_characteristics)"
      ]
    },
    {
      "cell_type": "code",
      "source": [
        "print(\"Average distance of planets from the sun: \")\n",
        "print(planet_distances.mean())\n",
        "\n",
        "print(\"\\nNumber of moons for each outer planet: \")\n",
        "outer_planets = ['Jupiter', 'Saturn', 'Uranus', 'Neptune']\n",
        "for planet in outer_planets:\n",
        "  num_moons = moon_characteristics[moon_characteristics['Planet'] == planet].shape[0]\n",
        "  print(f\"{planet}: {num_moons} \")\n",
        "\n",
        "print(\"\\n\")\n",
        "\n",
        "for planet in outer_planets:\n",
        "  largest_moon = moon_characteristics[moon_characteristics['Planet'] == planet].sort_values(by='Diameter (km)', ascending=False).iloc[0]\n",
        "  print(f\"{planet}:{largest_moon['Moon']} ({largest_moon['Diameter (km)']} km)\")\n"
      ],
      "metadata": {
        "colab": {
          "base_uri": "https://localhost:8080/"
        },
        "id": "t6VLDwexbD1o",
        "outputId": "2cf72dc5-1e6f-40b3-b0aa-6f63345457b8"
      },
      "id": "t6VLDwexbD1o",
      "execution_count": null,
      "outputs": [
        {
          "output_type": "stream",
          "name": "stdout",
          "text": [
            "Average distance of planets from the sun: \n",
            "1781.0777777777778\n",
            "\n",
            "Number of moons for each outer planet: \n",
            "Jupiter: 2 \n",
            "Saturn: 2 \n",
            "Uranus: 1 \n",
            "Neptune: 1 \n",
            "\n",
            "\n",
            "Jupiter:Ganymede (5262 km)\n",
            "Saturn:Titan (5150 km)\n",
            "Uranus:Titania (1578 km)\n",
            "Neptune:Triton (2707 km)\n"
          ]
        }
      ]
    },
    {
      "cell_type": "markdown",
      "id": "9fc4e4a0-bcc4-4d9f-a18d-3bfc968aa663",
      "metadata": {
        "id": "9fc4e4a0-bcc4-4d9f-a18d-3bfc968aa663"
      },
      "source": [
        "## Working with Real Life Data ☄️\n",
        "Pandas allows us to work with a wide range of file formats from external sources. The code below allows us to import data via CSV and display information about it.\n",
        "\n",
        "The below downloads a CSV file of the most recent SpaceX Missions using a URL:"
      ]
    },
    {
      "cell_type": "code",
      "execution_count": 1,
      "id": "4ff2c8f4-bfc9-47fe-a0eb-db6d99403df7",
      "metadata": {
        "id": "4ff2c8f4-bfc9-47fe-a0eb-db6d99403df7",
        "colab": {
          "base_uri": "https://localhost:8080/",
          "height": 161
        },
        "outputId": "e135527a-5e9b-46e9-aeed-a2f510d47bf7"
      },
      "outputs": [
        {
          "output_type": "error",
          "ename": "NameError",
          "evalue": "name 'pd' is not defined",
          "traceback": [
            "\u001b[0;31m---------------------------------------------------------------------------\u001b[0m",
            "\u001b[0;31mNameError\u001b[0m                                 Traceback (most recent call last)",
            "\u001b[0;32m<ipython-input-1-517c702e8a15>\u001b[0m in \u001b[0;36m<cell line: 0>\u001b[0;34m()\u001b[0m\n\u001b[1;32m      1\u001b[0m \u001b[0mspace_x_missions_csv\u001b[0m \u001b[0;34m=\u001b[0m \u001b[0;34m\"https://raw.githubusercontent.com/BriantOliveira/SpaceX-Dataset/master/dataset/SpaceX-Missions.csv\"\u001b[0m\u001b[0;34m\u001b[0m\u001b[0;34m\u001b[0m\u001b[0m\n\u001b[0;32m----> 2\u001b[0;31m \u001b[0mdf\u001b[0m \u001b[0;34m=\u001b[0m \u001b[0mpd\u001b[0m\u001b[0;34m.\u001b[0m\u001b[0mread_csv\u001b[0m\u001b[0;34m(\u001b[0m\u001b[0mspace_x_missions_csv\u001b[0m\u001b[0;34m)\u001b[0m\u001b[0;34m\u001b[0m\u001b[0;34m\u001b[0m\u001b[0m\n\u001b[0m",
            "\u001b[0;31mNameError\u001b[0m: name 'pd' is not defined"
          ]
        }
      ],
      "source": [
        "space_x_missions_csv = \"https://raw.githubusercontent.com/BriantOliveira/SpaceX-Dataset/master/dataset/SpaceX-Missions.csv\"\n",
        "df = pd.read_csv(space_x_missions_csv)"
      ]
    },
    {
      "cell_type": "markdown",
      "id": "eb4f0b33-0311-4191-9dc6-648334dc2c3e",
      "metadata": {
        "id": "eb4f0b33-0311-4191-9dc6-648334dc2c3e"
      },
      "source": [
        "You can gauge more information about a particular dataset using the following methods:"
      ]
    },
    {
      "cell_type": "code",
      "execution_count": null,
      "id": "3d27ffbd-bbc5-44c7-89a0-006d817ec744",
      "metadata": {
        "colab": {
          "base_uri": "https://localhost:8080/"
        },
        "id": "3d27ffbd-bbc5-44c7-89a0-006d817ec744",
        "outputId": "0a0628a9-cc9a-4184-f585-68ed6cbf6169"
      },
      "outputs": [
        {
          "output_type": "stream",
          "name": "stdout",
          "text": [
            "  Flight Number    Launch Date Launch Time       Launch Site Vehicle Type  \\\n",
            "0          F1-1  24 March 2006       22:30  Marshall Islands     Falcon 1   \n",
            "1          F1-2  21 March 2007       01:10  Marshall Islands     Falcon 1   \n",
            "2          F1-3  3 August 2008       03:34  Marshall Islands     Falcon 1   \n",
            "3          F1-3  3 August 2008       03:34  Marshall Islands     Falcon 1   \n",
            "4          F1-3  3 August 2008       03:34  Marshall Islands     Falcon 1   \n",
            "\n",
            "         Payload Name             Payload Type  Payload Mass (kg)  \\\n",
            "0         FalconSAT-2       Research Satellite               19.5   \n",
            "1             DemoSat                      NaN                NaN   \n",
            "2         Trailblazer  Communication Satellite                NaN   \n",
            "3  PRESat, NanoSail-D      Research Satellites                8.0   \n",
            "4           Explorers            Human Remains                NaN   \n",
            "\n",
            "  Payload Orbit Customer Name Customer Type Customer Country Mission Outcome  \\\n",
            "0           NaN         DARPA    Government    United States         Failure   \n",
            "1           NaN         DARPA    Government    United States         Failure   \n",
            "2           NaN           ORS    Government    United States         Failure   \n",
            "3           NaN          NASA    Government    United States         Failure   \n",
            "4           NaN      Celestis      Business    United States         Failure   \n",
            "\n",
            "                  Failure Reason Landing Type Landing Outcome  \n",
            "0      Engine Fire During Launch          NaN             NaN  \n",
            "1  Engine Shutdown During Launch          NaN             NaN  \n",
            "2        Collision During Launch          NaN             NaN  \n",
            "3        Collision During Launch          NaN             NaN  \n",
            "4        Collision During Launch          NaN             NaN  \n",
            "<class 'pandas.core.frame.DataFrame'>\n",
            "RangeIndex: 41 entries, 0 to 40\n",
            "Data columns (total 16 columns):\n",
            " #   Column             Non-Null Count  Dtype  \n",
            "---  ------             --------------  -----  \n",
            " 0   Flight Number      41 non-null     object \n",
            " 1   Launch Date        41 non-null     object \n",
            " 2   Launch Time        41 non-null     object \n",
            " 3   Launch Site        41 non-null     object \n",
            " 4   Vehicle Type       41 non-null     object \n",
            " 5   Payload Name       41 non-null     object \n",
            " 6   Payload Type       38 non-null     object \n",
            " 7   Payload Mass (kg)  33 non-null     float64\n",
            " 8   Payload Orbit      36 non-null     object \n",
            " 9   Customer Name      39 non-null     object \n",
            " 10  Customer Type      39 non-null     object \n",
            " 11  Customer Country   39 non-null     object \n",
            " 12  Mission Outcome    41 non-null     object \n",
            " 13  Failure Reason     8 non-null      object \n",
            " 14  Landing Type       21 non-null     object \n",
            " 15  Landing Outcome    21 non-null     object \n",
            "dtypes: float64(1), object(15)\n",
            "memory usage: 5.2+ KB\n",
            "None\n",
            "       Payload Mass (kg)\n",
            "count          33.000000\n",
            "mean         2739.772727\n",
            "std          2131.502973\n",
            "min             8.000000\n",
            "25%           570.000000\n",
            "50%          2490.000000\n",
            "75%          4159.000000\n",
            "max          9600.000000\n"
          ]
        }
      ],
      "source": [
        "# Display the first few rows of the DataFrame\n",
        "print(df.head())\n",
        "\n",
        "# Check basic information about the DataFrame\n",
        "print(df.info())\n",
        "\n",
        "# Summary statistics of numerical columns\n",
        "print(df.describe())"
      ]
    },
    {
      "cell_type": "markdown",
      "id": "dfe9136c-5b66-43ef-bc17-b42e1129111d",
      "metadata": {
        "id": "dfe9136c-5b66-43ef-bc17-b42e1129111d"
      },
      "source": [
        "## Core Methods with Pandas ⚙️"
      ]
    },
    {
      "cell_type": "markdown",
      "id": "e6a49e7a-61fd-4682-bd53-2e4d4413f6a0",
      "metadata": {
        "id": "e6a49e7a-61fd-4682-bd53-2e4d4413f6a0"
      },
      "source": [
        "### Mathematical & Statistical Methods\n",
        "You can apply basic statistical and mathematical  functions such as `mean`, `median`, `sum`, `std` (standard deviation), `var` (variance), and more!"
      ]
    },
    {
      "cell_type": "code",
      "execution_count": null,
      "id": "4b34a734-95b2-47da-b067-2c21d42fe3f2",
      "metadata": {
        "id": "4b34a734-95b2-47da-b067-2c21d42fe3f2",
        "outputId": "d2ee83dc-0bd4-460f-a97a-e8c52c9c73f5"
      },
      "outputs": [
        {
          "name": "stdout",
          "output_type": "stream",
          "text": [
            "2739.7727272727275\n",
            "2490.0\n",
            "90412.5\n",
            "2131.502972856349\n",
            "4543304.923295454\n"
          ]
        }
      ],
      "source": [
        "mean_payload_mass = df['Payload Mass (kg)'].mean()\n",
        "print(mean_payload_mass)\n",
        "\n",
        "median_payload_mass = df['Payload Mass (kg)'].median()\n",
        "print(median_payload_mass)\n",
        "\n",
        "sum_payload_mass = df['Payload Mass (kg)'].sum()\n",
        "print(sum_payload_mass)\n",
        "\n",
        "std_payload_mass = df['Payload Mass (kg)'].std()\n",
        "print(std_payload_mass)\n",
        "\n",
        "var_payload_mass = df['Payload Mass (kg)'].var()\n",
        "print(var_payload_mass)"
      ]
    },
    {
      "cell_type": "markdown",
      "id": "79bcfae0-581f-4e59-8909-65bde88d5346",
      "metadata": {
        "id": "79bcfae0-581f-4e59-8909-65bde88d5346"
      },
      "source": [
        "### Explorative Methods\n",
        "Explorative methods in Pandas allows you to learn more about the dataset at hand. Some of these methods include `describe` and `unique`."
      ]
    },
    {
      "cell_type": "code",
      "execution_count": null,
      "id": "712be440-79b1-4cdb-8162-f9ce3946123f",
      "metadata": {
        "id": "712be440-79b1-4cdb-8162-f9ce3946123f",
        "outputId": "f79759e9-f654-4ed8-8988-e45f339eadfa"
      },
      "outputs": [
        {
          "data": {
            "text/html": [
              "<div>\n",
              "<style scoped>\n",
              "    .dataframe tbody tr th:only-of-type {\n",
              "        vertical-align: middle;\n",
              "    }\n",
              "\n",
              "    .dataframe tbody tr th {\n",
              "        vertical-align: top;\n",
              "    }\n",
              "\n",
              "    .dataframe thead th {\n",
              "        text-align: right;\n",
              "    }\n",
              "</style>\n",
              "<table border=\"1\" class=\"dataframe\">\n",
              "  <thead>\n",
              "    <tr style=\"text-align: right;\">\n",
              "      <th></th>\n",
              "      <th>Payload Mass (kg)</th>\n",
              "    </tr>\n",
              "  </thead>\n",
              "  <tbody>\n",
              "    <tr>\n",
              "      <th>count</th>\n",
              "      <td>33.000000</td>\n",
              "    </tr>\n",
              "    <tr>\n",
              "      <th>mean</th>\n",
              "      <td>2739.772727</td>\n",
              "    </tr>\n",
              "    <tr>\n",
              "      <th>std</th>\n",
              "      <td>2131.502973</td>\n",
              "    </tr>\n",
              "    <tr>\n",
              "      <th>min</th>\n",
              "      <td>8.000000</td>\n",
              "    </tr>\n",
              "    <tr>\n",
              "      <th>25%</th>\n",
              "      <td>570.000000</td>\n",
              "    </tr>\n",
              "    <tr>\n",
              "      <th>50%</th>\n",
              "      <td>2490.000000</td>\n",
              "    </tr>\n",
              "    <tr>\n",
              "      <th>75%</th>\n",
              "      <td>4159.000000</td>\n",
              "    </tr>\n",
              "    <tr>\n",
              "      <th>max</th>\n",
              "      <td>9600.000000</td>\n",
              "    </tr>\n",
              "  </tbody>\n",
              "</table>\n",
              "</div>"
            ],
            "text/plain": [
              "       Payload Mass (kg)\n",
              "count          33.000000\n",
              "mean         2739.772727\n",
              "std          2131.502973\n",
              "min             8.000000\n",
              "25%           570.000000\n",
              "50%          2490.000000\n",
              "75%          4159.000000\n",
              "max          9600.000000"
            ]
          },
          "execution_count": 38,
          "metadata": {},
          "output_type": "execute_result"
        }
      ],
      "source": [
        "# Print all unique launch sites in the dataset\n",
        "pd.unique(df[\"Launch Site\"])\n",
        "\n",
        "# Describe the statistical values of all the numerical columns within the dataset\n",
        "df.describe(include=[np.number])"
      ]
    },
    {
      "cell_type": "markdown",
      "id": "4a2e7cc7-2062-4685-a7bc-fc511b9eec63",
      "metadata": {
        "id": "4a2e7cc7-2062-4685-a7bc-fc511b9eec63"
      },
      "source": [
        "### Data Selection and Filtering\n",
        "Pandas offers a versatile tool kit for faceting your dataset."
      ]
    },
    {
      "cell_type": "code",
      "execution_count": null,
      "id": "7ec412d2-4163-4460-bcea-cafa566e7a17",
      "metadata": {
        "id": "7ec412d2-4163-4460-bcea-cafa566e7a17",
        "outputId": "62f7f9f1-d84c-4cb7-8284-e3350b14f3dc"
      },
      "outputs": [
        {
          "name": "stdout",
          "output_type": "stream",
          "text": [
            "                            Payload Name                 Payload Orbit\n",
            "0                            FalconSAT-2                           NaN\n",
            "1                                DemoSat                           NaN\n",
            "2                            Trailblazer                           NaN\n",
            "3                     PRESat, NanoSail-D                           NaN\n",
            "4                              Explorers                           NaN\n",
            "5                       RatSat (DemoSat)               Low Earth Orbit\n",
            "6                               RazakSAT               Low Earth Orbit\n",
            "7   Dragon Spacecraft Qualification Unit               Low Earth Orbit\n",
            "8                 SpaceX CRS (Dragon C1)               Low Earth Orbit\n",
            "9                SpaceX CRS (Dragon C2+)               Low Earth Orbit\n",
            "10                          SpaceX CRS-1               Low Earth Orbit\n",
            "11                           Orbcomm-OG2               Low Earth Orbit\n",
            "12                          SpaceX CRS-2               Low Earth Orbit\n",
            "13                              CASSIOPE                   Polar Orbit\n",
            "14                                 SES-8  Geostationary Transfer Orbit\n",
            "15                             Thaicom 6  Geostationary Transfer Orbit\n",
            "16                          SpaceX CRS-3               Low Earth Orbit\n",
            "17      OG2 Mission 1 (6 OG2 Satellites)               Low Earth Orbit\n",
            "18                             AsiaSat 8  Geostationary Transfer Orbit\n",
            "19                             AsiaSat 6  Geostationary Transfer Orbit\n",
            "20                          SpaceX CRS-4  Geostationary Transfer Orbit\n",
            "21                          SpaceX CRS-5               Low Earth Orbit\n",
            "22                                DSCOVR               Sun/Earth Orbit\n",
            "23                                ABS-3A  Geostationary Transfer Orbit\n",
            "24        Eutelsat 115 West B (Satmex 7)  Geostationary Transfer Orbit\n",
            "25                          SpaceX CRS-6               Low Earth Orbit\n",
            "26             TurkmenAlem 52E/MonacoSAT  Geostationary Transfer Orbit\n",
            "27                          SpaceX CRS-7               Low Earth Orbit\n",
            "28     OG2 Mission 2 (11 OG2 Satellites)               Low Earth Orbit\n",
            "29                               Jason-3               Low Earth Orbit\n",
            "30                                 SES-9  Geostationary Transfer Orbit\n",
            "31                          SpaceX CRS-8               Low Earth Orbit\n",
            "32                              JCSAT-14  Geostationary Transfer Orbit\n",
            "33                             Thaicom 8  Geostationary Transfer Orbit\n",
            "34                                ABS-2A  Geostationary Transfer Orbit\n",
            "35        Eutelsat 117 West B (Satmex 9)  Geostationary Transfer Orbit\n",
            "36                          SpaceX CRS-9               Low Earth Orbit\n",
            "37                              JCSAT-16  Geostationary Transfer Orbit\n",
            "38                                Amos-6  Geostationary Transfer Orbit\n",
            "39                     Iridium NEXT 1-10               Low Earth Orbit\n",
            "40                         SpaceX CRS-10               Low Earth Orbit\n",
            "   Flight Number       Launch Date Launch Time               Launch Site  \\\n",
            "14          F9-7   3 December 2013       22:41  Cape Canaveral AFS LC-40   \n",
            "15          F9-8   6 December 2014       22:06  Cape Canaveral AFS LC-40   \n",
            "18         F9-11     5 August 2014       08:00  Cape Canaveral AFS LC-40   \n",
            "19         F9-12  7 September 2014       05:00  Cape Canaveral AFS LC-40   \n",
            "23         F9-16      2 March 2015       03:50  Cape Canaveral AFS LC-40   \n",
            "24         F9-16      2 March 2015       03:50  Cape Canaveral AFS LC-40   \n",
            "26         F9-18     27 April 2015       23:03  Cape Canaveral AFS LC-40   \n",
            "30          FT-2      4 March 2016       23:35  Cape Canaveral AFS LC-40   \n",
            "31          FT-3      8 April 2016       20:43  Cape Canaveral AFS LC-40   \n",
            "32          FT-4        6 May 2016       05:21  Cape Canaveral AFS LC-40   \n",
            "33          FT-5       27 May 2016       21:39  Cape Canaveral AFS LC-40   \n",
            "34          FT-6      15 June 2016       14:29  Cape Canaveral AFS LC-40   \n",
            "35          FT-6      15 June 2016       14:29  Cape Canaveral AFS LC-40   \n",
            "37          FT-8    14 August 2016       05:26  Cape Canaveral AFS LC-40   \n",
            "38          FT-9  1 September 2016       13:07  Cape Canaveral AFS LC-40   \n",
            "39         FT-10   14 January 2017       17:54     Vandenberg AFB SLC-4E   \n",
            "\n",
            "                   Vehicle Type                    Payload Name  \\\n",
            "14              Falcon 9 (v1.1)                           SES-8   \n",
            "15              Falcon 9 (v1.1)                       Thaicom 6   \n",
            "18              Falcon 9 (v1.1)                       AsiaSat 8   \n",
            "19              Falcon 9 (v1.1)                       AsiaSat 6   \n",
            "23              Falcon 9 (v1.1)                          ABS-3A   \n",
            "24              Falcon 9 (v1.1)  Eutelsat 115 West B (Satmex 7)   \n",
            "26              Falcon 9 (v1.1)       TurkmenAlem 52E/MonacoSAT   \n",
            "30  Falcon 9 Full Thrust (v1.2)                           SES-9   \n",
            "31  Falcon 9 Full Thrust (v1.2)                    SpaceX CRS-8   \n",
            "32  Falcon 9 Full Thrust (v1.2)                        JCSAT-14   \n",
            "33  Falcon 9 Full Thrust (v1.2)                       Thaicom 8   \n",
            "34  Falcon 9 Full Thrust (v1.2)                          ABS-2A   \n",
            "35  Falcon 9 Full Thrust (v1.2)  Eutelsat 117 West B (Satmex 9)   \n",
            "37  Falcon 9 Full Thrust (v1.2)                        JCSAT-16   \n",
            "38  Falcon 9 Full Thrust (v1.2)                          Amos-6   \n",
            "39  Falcon 9 Full Thrust (v1.2)               Iridium NEXT 1-10   \n",
            "\n",
            "               Payload Type  Payload Mass (kg)                 Payload Orbit  \\\n",
            "14  Communication Satellite             3170.0  Geostationary Transfer Orbit   \n",
            "15  Communication Satellite             3325.0  Geostationary Transfer Orbit   \n",
            "18  Communication Satellite             4535.0  Geostationary Transfer Orbit   \n",
            "19  Communication Satellite             4428.0  Geostationary Transfer Orbit   \n",
            "23  Communication Satellite             4159.0  Geostationary Transfer Orbit   \n",
            "24  Communication Satellite             4159.0  Geostationary Transfer Orbit   \n",
            "26  Communication Satellite             4707.0  Geostationary Transfer Orbit   \n",
            "30  Communication Satellite             5271.0  Geostationary Transfer Orbit   \n",
            "31   Space Station Supplies             3136.0               Low Earth Orbit   \n",
            "32  Communication Satellite             4696.0  Geostationary Transfer Orbit   \n",
            "33  Communication Satellite             3100.0  Geostationary Transfer Orbit   \n",
            "34  Communication Satellite             3600.0  Geostationary Transfer Orbit   \n",
            "35  Communication Satellite             3600.0  Geostationary Transfer Orbit   \n",
            "37  Communication Satellite             4600.0  Geostationary Transfer Orbit   \n",
            "38  Communication Satellite             5500.0  Geostationary Transfer Orbit   \n",
            "39  Communication Satellite             9600.0               Low Earth Orbit   \n",
            "\n",
            "               Customer Name Customer Type Customer Country Mission Outcome  \\\n",
            "14                       SES      Business       Luxembourg         Success   \n",
            "15                   Thaicom      Business         Thailand         Success   \n",
            "18                   AsiaSat      Business            China         Success   \n",
            "19                   AsiaSat      Business            China         Success   \n",
            "23  Asia Broadcast Satellite      Business          Bermuda         Success   \n",
            "24         Eutelsat (Satmex)      Business  France (Mexico)         Success   \n",
            "26          Turkmenistan NSA    Government     Turkmenistan         Success   \n",
            "30                       SES      Business       Luxembourg         Success   \n",
            "31                      NASA    Government    United States         Success   \n",
            "32    SKY Perfect JSAT Group      Business            Japan         Success   \n",
            "33                   Thaicom      Business         Thailand         Success   \n",
            "34  Asia Broadcast Satellite      Business          Bermuda         Success   \n",
            "35         Eutelsat (Satmex)      Business  France (Mexico)         Success   \n",
            "37    SKY Perfect JSAT Group      Business            Japan         Success   \n",
            "38                  Spacecom      Business           Israel         Failure   \n",
            "39    Iridium Communications      Business    United States         Success   \n",
            "\n",
            "                     Failure Reason Landing Type Landing Outcome  \n",
            "14                              NaN          NaN             NaN  \n",
            "15                              NaN          NaN             NaN  \n",
            "18                              NaN          NaN             NaN  \n",
            "19                              NaN          NaN             NaN  \n",
            "23                              NaN          NaN             NaN  \n",
            "24                              NaN          NaN             NaN  \n",
            "26                              NaN          NaN             NaN  \n",
            "30                              NaN         Ship         Failure  \n",
            "31                              NaN         Ship         Success  \n",
            "32                              NaN         Ship         Success  \n",
            "33                              NaN         Ship         Success  \n",
            "34                              NaN         Ship         Failure  \n",
            "35                              NaN         Ship         Failure  \n",
            "37                              NaN         Ship         Success  \n",
            "38  Vehicle Explosion Before Launch          NaN             NaN  \n",
            "39                              NaN         Ship         Success  \n"
          ]
        }
      ],
      "source": [
        "# Select specific columns\n",
        "selected_columns = df[['Payload Name', 'Payload Orbit']]\n",
        "print(selected_columns)\n",
        "\n",
        "# Filter rows based on condition (if payload mass exceeds 3000)\n",
        "filtered_payloads = df[df['Payload Mass (kg)'] > 3000]\n",
        "print(filtered_payloads)"
      ]
    },
    {
      "cell_type": "markdown",
      "id": "e0389e7e-ba7c-4bd8-8b0e-3a9dfa4b03de",
      "metadata": {
        "id": "e0389e7e-ba7c-4bd8-8b0e-3a9dfa4b03de"
      },
      "source": [
        "### Grouping Data\n",
        "Another cool feature in Panadas is `groupby` which allows you to categorize data and perform analysis on it."
      ]
    },
    {
      "cell_type": "code",
      "execution_count": null,
      "id": "f5036178-06d8-4eab-abc1-1e758f5d467f",
      "metadata": {
        "id": "f5036178-06d8-4eab-abc1-1e758f5d467f",
        "outputId": "0cc13bfd-bcbb-4be7-c0e8-1a649709917d"
      },
      "outputs": [
        {
          "data": {
            "text/plain": [
              "Launch Site\n",
              "Cape Canaveral AFS LC-40       3075.880\n",
              "Kennedy Space Center LC-39A    2490.000\n",
              "Marshall Islands                 93.125\n",
              "Vandenberg AFB SLC-4E          3551.000\n",
              "Name: Payload Mass (kg), dtype: float64"
            ]
          },
          "execution_count": 45,
          "metadata": {},
          "output_type": "execute_result"
        }
      ],
      "source": [
        "# Grouping payload by launch site\n",
        "launch_groups = df.groupby(\"Launch Site\")\n",
        "\n",
        "# Obtaining the mean value for each group\n",
        "launch_groups['Payload Mass (kg)'].mean()"
      ]
    },
    {
      "cell_type": "markdown",
      "id": "f84f7603-e82c-47d0-8bd7-b132b30f624a",
      "metadata": {
        "id": "f84f7603-e82c-47d0-8bd7-b132b30f624a"
      },
      "source": [
        "### Exercise 2: Deeper Dive into SpaceX Launch Dataset 🚀\n",
        "Let's conduct more research analysis on the SpaceX launch dataset!\n",
        "\n",
        "#### Objectives:\n",
        "- Reinitialize the dataframe and name it `launches_dataset`\n",
        "- View the first values of the dataset using the `head()` method\n",
        "- Print out the \"Customer Country\" column\n",
        "- Print out all the unique customer countries\n",
        "- Make a variable named `launches_by_country` and make it grouped by the \"Customer Country\" column\n",
        "- Print out all the launches with a payload mass (\"Payload Mass (kg)\") of less than 4000\n",
        "- Print the median payload mass for `United States`"
      ]
    },
    {
      "cell_type": "code",
      "execution_count": 6,
      "id": "9046684b-ad43-477d-bd8c-fa8974816000",
      "metadata": {
        "id": "9046684b-ad43-477d-bd8c-fa8974816000",
        "colab": {
          "base_uri": "https://localhost:8080/"
        },
        "outputId": "4a07ee41-d14e-4353-cb0c-21b1ad0fbcde"
      },
      "outputs": [
        {
          "output_type": "stream",
          "name": "stdout",
          "text": [
            "0       United States\n",
            "1       United States\n",
            "2       United States\n",
            "3       United States\n",
            "4       United States\n",
            "5                 NaN\n",
            "6            Malaysia\n",
            "7                 NaN\n",
            "8       United States\n",
            "9       United States\n",
            "10      United States\n",
            "11      United States\n",
            "12      United States\n",
            "13             Canada\n",
            "14         Luxembourg\n",
            "15           Thailand\n",
            "16      United States\n",
            "17      United States\n",
            "18              China\n",
            "19              China\n",
            "20      United States\n",
            "21      United States\n",
            "22      United States\n",
            "23            Bermuda\n",
            "24    France (Mexico)\n",
            "25      United States\n",
            "26       Turkmenistan\n",
            "27      United States\n",
            "28      United States\n",
            "29      United States\n",
            "30         Luxembourg\n",
            "31      United States\n",
            "32              Japan\n",
            "33           Thailand\n",
            "34            Bermuda\n",
            "35    France (Mexico)\n",
            "36      United States\n",
            "37              Japan\n",
            "38             Israel\n",
            "39      United States\n",
            "40      United States\n",
            "Name: Customer Country, dtype: object\n",
            "['United States' nan 'Malaysia' 'Canada' 'Luxembourg' 'Thailand' 'China'\n",
            " 'Bermuda' 'France (Mexico)' 'Turkmenistan' 'Japan' 'Israel']\n",
            "   Flight Number        Launch Date Launch Time                  Launch Site  \\\n",
            "0           F1-1      24 March 2006       22:30             Marshall Islands   \n",
            "3           F1-3      3 August 2008       03:34             Marshall Islands   \n",
            "5           F1-4  28 September 2008       23:15             Marshall Islands   \n",
            "6           F1-5       14 July 2009       03:35             Marshall Islands   \n",
            "10          F9-4     8 October 2012       00:35     Cape Canaveral AFS LC-40   \n",
            "11          F9-4     8 October 2012       00:35     Cape Canaveral AFS LC-40   \n",
            "12          F9-5       1 March 2013       15:10     Cape Canaveral AFS LC-40   \n",
            "13          F9-6  29 September 2013       16:00        Vandenberg AFB SLC-4E   \n",
            "14          F9-7    3 December 2013       22:41     Cape Canaveral AFS LC-40   \n",
            "15          F9-8    6 December 2014       22:06     Cape Canaveral AFS LC-40   \n",
            "16          F9-9      18 April 2014       19:25     Cape Canaveral AFS LC-40   \n",
            "20         F9-13  21 September 2014       05:52     Cape Canaveral AFS LC-40   \n",
            "21         F9-14    10 January 2015       09:47     Cape Canaveral AFS LC-40   \n",
            "22         F9-15   11 February 2015       23:03     Cape Canaveral AFS LC-40   \n",
            "25         F9-17      14 April 2015       20:10     Cape Canaveral AFS LC-40   \n",
            "27         F9-19       28 June 2015       14:21     Cape Canaveral AFS LC-40   \n",
            "29         F9-21    17 January 2016       18:42        Vandenberg AFB SLC-4E   \n",
            "31          FT-3       8 April 2016       20:43     Cape Canaveral AFS LC-40   \n",
            "33          FT-5        27 May 2016       21:39     Cape Canaveral AFS LC-40   \n",
            "34          FT-6       15 June 2016       14:29     Cape Canaveral AFS LC-40   \n",
            "35          FT-6       15 June 2016       14:29     Cape Canaveral AFS LC-40   \n",
            "36          FT-7       18 July 2016       04:45     Cape Canaveral AFS LC-40   \n",
            "40         FT-11   19 February 2017       14:39  Kennedy Space Center LC-39A   \n",
            "\n",
            "                   Vehicle Type                    Payload Name  \\\n",
            "0                      Falcon 1                     FalconSAT-2   \n",
            "3                      Falcon 1              PRESat, NanoSail-D   \n",
            "5                      Falcon 1                RatSat (DemoSat)   \n",
            "6                      Falcon 1                        RazakSAT   \n",
            "10              Falcon 9 (v1.0)                    SpaceX CRS-1   \n",
            "11              Falcon 9 (v1.0)                     Orbcomm-OG2   \n",
            "12              Falcon 9 (v1.0)                    SpaceX CRS-2   \n",
            "13              Falcon 9 (v1.1)                        CASSIOPE   \n",
            "14              Falcon 9 (v1.1)                           SES-8   \n",
            "15              Falcon 9 (v1.1)                       Thaicom 6   \n",
            "16              Falcon 9 (v1.1)                    SpaceX CRS-3   \n",
            "20              Falcon 9 (v1.1)                    SpaceX CRS-4   \n",
            "21              Falcon 9 (v1.1)                    SpaceX CRS-5   \n",
            "22              Falcon 9 (v1.1)                          DSCOVR   \n",
            "25              Falcon 9 (v1.1)                    SpaceX CRS-6   \n",
            "27              Falcon 9 (v1.1)                    SpaceX CRS-7   \n",
            "29              Falcon 9 (v1.1)                         Jason-3   \n",
            "31  Falcon 9 Full Thrust (v1.2)                    SpaceX CRS-8   \n",
            "33  Falcon 9 Full Thrust (v1.2)                       Thaicom 8   \n",
            "34  Falcon 9 Full Thrust (v1.2)                          ABS-2A   \n",
            "35  Falcon 9 Full Thrust (v1.2)  Eutelsat 117 West B (Satmex 9)   \n",
            "36  Falcon 9 Full Thrust (v1.2)                    SpaceX CRS-9   \n",
            "40  Falcon 9 Full Thrust (v1.2)                   SpaceX CRS-10   \n",
            "\n",
            "                        Payload Type  Payload Mass (kg)  \\\n",
            "0                 Research Satellite               19.5   \n",
            "3                Research Satellites                8.0   \n",
            "5                                NaN              165.0   \n",
            "6                  Weather Satellite              180.0   \n",
            "10            Space Station Supplies              500.0   \n",
            "11           Communication Satellite              150.0   \n",
            "12            Space Station Supplies              677.0   \n",
            "13  Communication/Research Satellite              500.0   \n",
            "14           Communication Satellite             3170.0   \n",
            "15           Communication Satellite             3325.0   \n",
            "16            Space Station Supplies             2296.0   \n",
            "20            Space Station Supplies             2216.0   \n",
            "21            Space Station Supplies             2395.0   \n",
            "22                 Weather Satellite              570.0   \n",
            "25            Space Station Supplies             1898.0   \n",
            "27            Space Station Supplies             1952.0   \n",
            "29                 Weather Satellite              553.0   \n",
            "31            Space Station Supplies             3136.0   \n",
            "33           Communication Satellite             3100.0   \n",
            "34           Communication Satellite             3600.0   \n",
            "35           Communication Satellite             3600.0   \n",
            "36            Space Station Supplies             2257.0   \n",
            "40            Space Station Supplies             2490.0   \n",
            "\n",
            "                   Payload Orbit             Customer Name Customer Type  \\\n",
            "0                            NaN                     DARPA    Government   \n",
            "3                            NaN                      NASA    Government   \n",
            "5                Low Earth Orbit                       NaN           NaN   \n",
            "6                Low Earth Orbit                      ATSB    Government   \n",
            "10               Low Earth Orbit                      NASA    Government   \n",
            "11               Low Earth Orbit                   Orbcomm      Business   \n",
            "12               Low Earth Orbit                      NASA    Government   \n",
            "13                   Polar Orbit                  MDA Corp      Business   \n",
            "14  Geostationary Transfer Orbit                       SES      Business   \n",
            "15  Geostationary Transfer Orbit                   Thaicom      Business   \n",
            "16               Low Earth Orbit                      NASA    Government   \n",
            "20  Geostationary Transfer Orbit                      NASA    Government   \n",
            "21               Low Earth Orbit                      NASA    Government   \n",
            "22               Sun/Earth Orbit  US Air Force; NASA; NOAA    Government   \n",
            "25               Low Earth Orbit                      NASA    Government   \n",
            "27               Low Earth Orbit                      NASA    Government   \n",
            "29               Low Earth Orbit          NASA; NOAA; CNES    Government   \n",
            "31               Low Earth Orbit                      NASA    Government   \n",
            "33  Geostationary Transfer Orbit                   Thaicom      Business   \n",
            "34  Geostationary Transfer Orbit  Asia Broadcast Satellite      Business   \n",
            "35  Geostationary Transfer Orbit         Eutelsat (Satmex)      Business   \n",
            "36               Low Earth Orbit                      NASA    Government   \n",
            "40               Low Earth Orbit                      NASA    Government   \n",
            "\n",
            "   Customer Country Mission Outcome                   Failure Reason  \\\n",
            "0     United States         Failure        Engine Fire During Launch   \n",
            "3     United States         Failure          Collision During Launch   \n",
            "5               NaN         Success                              NaN   \n",
            "6          Malaysia         Success                              NaN   \n",
            "10    United States         Success                              NaN   \n",
            "11    United States         Failure     Engine Failure During Flight   \n",
            "12    United States         Success                              NaN   \n",
            "13           Canada         Success                              NaN   \n",
            "14       Luxembourg         Success                              NaN   \n",
            "15         Thailand         Success                              NaN   \n",
            "16    United States         Success                              NaN   \n",
            "20    United States         Success                              NaN   \n",
            "21    United States         Success                              NaN   \n",
            "22    United States         Success                              NaN   \n",
            "25    United States         Success                              NaN   \n",
            "27    United States         Failure  Vehicle Explosion During Flight   \n",
            "29    United States         Success                              NaN   \n",
            "31    United States         Success                              NaN   \n",
            "33         Thailand         Success                              NaN   \n",
            "34          Bermuda         Success                              NaN   \n",
            "35  France (Mexico)         Success                              NaN   \n",
            "36    United States         Success                              NaN   \n",
            "40    United States         Success                              NaN   \n",
            "\n",
            "   Landing Type Landing Outcome  \n",
            "0           NaN             NaN  \n",
            "3           NaN             NaN  \n",
            "5           NaN             NaN  \n",
            "6           NaN             NaN  \n",
            "10          NaN             NaN  \n",
            "11          NaN             NaN  \n",
            "12          NaN             NaN  \n",
            "13        Ocean         Failure  \n",
            "14          NaN             NaN  \n",
            "15          NaN             NaN  \n",
            "16        Ocean         Success  \n",
            "20        Ocean         Success  \n",
            "21         Ship         Failure  \n",
            "22        Ocean         Success  \n",
            "25         Ship         Failure  \n",
            "27          NaN             NaN  \n",
            "29         Ship         Failure  \n",
            "31         Ship         Success  \n",
            "33         Ship         Success  \n",
            "34         Ship         Failure  \n",
            "35         Ship         Failure  \n",
            "36         Land         Success  \n",
            "40         Land         Success  \n",
            "2739.7727272727275\n"
          ]
        }
      ],
      "source": [
        "import pandas as pd\n",
        "\n",
        "space_x_missions_csv = \"https://raw.githubusercontent.com/BriantOliveira/SpaceX-Dataset/master/dataset/SpaceX-Missions.csv\"\n",
        "df = pd.read_csv(space_x_missions_csv)\n",
        "\n",
        "print(df[\"Customer Country\"])\n",
        "\n",
        "print(pd.unique(df[\"Customer Country\"]))\n",
        "\n",
        "launches_by_country = df.groupby(\"Customer Country\")\n",
        "\n",
        "print(df[df[\"Payload Mass (kg)\"]< 4000])\n",
        "\n",
        "print(df[\"Payload Mass (kg)\"].mean())"
      ]
    },
    {
      "cell_type": "markdown",
      "id": "0e5d8331-a942-4312-82b9-e6ddf64d3d7a",
      "metadata": {
        "id": "0e5d8331-a942-4312-82b9-e6ddf64d3d7a"
      },
      "source": [
        "Good job! You made it to the end of this lesson!\n",
        "Next, we will be covering a visualization and plotting library called Matplotlib."
      ]
    }
  ],
  "metadata": {
    "kernelspec": {
      "display_name": "Python 3 (ipykernel)",
      "language": "python",
      "name": "python3"
    },
    "language_info": {
      "codemirror_mode": {
        "name": "ipython",
        "version": 3
      },
      "file_extension": ".py",
      "mimetype": "text/x-python",
      "name": "python",
      "nbconvert_exporter": "python",
      "pygments_lexer": "ipython3",
      "version": "3.11.7"
    },
    "colab": {
      "provenance": [],
      "include_colab_link": true
    }
  },
  "nbformat": 4,
  "nbformat_minor": 5
}